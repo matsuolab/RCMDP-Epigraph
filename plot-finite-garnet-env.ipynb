{
 "cells": [
  {
   "cell_type": "code",
   "execution_count": 1,
   "metadata": {},
   "outputs": [
    {
     "name": "stderr",
     "output_type": "stream",
     "text": [
      "An NVIDIA GPU may be present on this machine, but a CUDA-enabled jaxlib is not installed. Falling back to cpu.\n"
     ]
    },
    {
     "name": "stdout",
     "output_type": "stream",
     "text": [
      "test passed\n"
     ]
    }
   ],
   "source": [
    "import pickle\n",
    "from finite.garnet import FIGNAME\n",
    "\n",
    "with open(f\"results/{FIGNAME}.pkl\", \"rb\") as f:\n",
    "    algos = pickle.load(f)"
   ]
  },
  {
   "cell_type": "code",
   "execution_count": 2,
   "metadata": {},
   "outputs": [],
   "source": [
    "Unif, LF, LFavg, EF = r\"Uniform policy ($\\pi_{\\mathrm{unif}}$)\", \"LF-PGS\", \"LF-PGS-avg\", r\"$\\mathbf{EpiRC\\operatorname{-}PGS\\;(Ours)}$\"\n",
    "\n",
    "linestyle = {Unif: '--', LF: ':', LFavg: '-', EF: '-'} \n",
    "marker = {Unif: 'P', LF: 'X', LFavg: '*', EF: 'o'}\n",
    "alphas = {Unif: 1.0, LF: 0.6, LFavg: 1.0, EF: 1.0} \n",
    "colors = {Unif: \"C0\", LF: \"C1\", LFavg: \"C2\", EF: \"C4\"} \n",
    "\n",
    "performance_label = r\"Objective Return\"\n",
    "violation_label = r\"Constraint Violation\"\n",
    "iteration_label = r\"Outer Iteration $k$\""
   ]
  },
  {
   "cell_type": "code",
   "execution_count": 3,
   "metadata": {},
   "outputs": [
    {
     "ename": "KeyError",
     "evalue": "'LF'",
     "output_type": "error",
     "traceback": [
      "\u001b[0;31m---------------------------------------------------------------------------\u001b[0m",
      "\u001b[0;31mKeyError\u001b[0m                                  Traceback (most recent call last)",
      "Cell \u001b[0;32mIn[3], line 21\u001b[0m\n\u001b[1;32m     19\u001b[0m J_list, v_list \u001b[38;5;241m=\u001b[39m J_v\n\u001b[1;32m     20\u001b[0m J, v \u001b[38;5;241m=\u001b[39m J_list\u001b[38;5;241m.\u001b[39mmean(axis\u001b[38;5;241m=\u001b[39m\u001b[38;5;241m0\u001b[39m), v_list\u001b[38;5;241m.\u001b[39mmean(axis\u001b[38;5;241m=\u001b[39m\u001b[38;5;241m0\u001b[39m)\n\u001b[0;32m---> 21\u001b[0m plt\u001b[38;5;241m.\u001b[39mscatter(J, v, marker\u001b[38;5;241m=\u001b[39m\u001b[43mmarker\u001b[49m\u001b[43m[\u001b[49m\u001b[43mname\u001b[49m\u001b[43m]\u001b[49m, s\u001b[38;5;241m=\u001b[39m\u001b[38;5;241m5\u001b[39m, color\u001b[38;5;241m=\u001b[39mcolors[name], alpha\u001b[38;5;241m=\u001b[39m\u001b[38;5;241m0.3\u001b[39m)\n\u001b[1;32m     23\u001b[0m \u001b[38;5;66;03m# if a feasible policy exist, emphasize the best policy\u001b[39;00m\n\u001b[1;32m     24\u001b[0m \u001b[38;5;28;01mif\u001b[39;00m np\u001b[38;5;241m.\u001b[39msum(v \u001b[38;5;241m<\u001b[39m\u001b[38;5;241m=\u001b[39m \u001b[38;5;241m0\u001b[39m) \u001b[38;5;241m>\u001b[39m \u001b[38;5;241m0\u001b[39m:  \n",
      "\u001b[0;31mKeyError\u001b[0m: 'LF'"
     ]
    },
    {
     "data": {
      "image/png": "[encoded data removed]",
      "text/plain": [
       "<Figure size 1400x400 with 1 Axes>"
      ]
     },
     "metadata": {},
     "output_type": "display_data"
    }
   ],
   "source": [
    "import numpy as np\n",
    "import seaborn as sns\n",
    "import matplotlib.pyplot as plt\n",
    "plt.rcParams[\"font.family\"] = \"serif\"\n",
    "import pandas as pd\n",
    "\n",
    "\n",
    "fig = plt.figure(figsize=(14, 4))\n",
    "sns.set_theme(font_scale=1.2)\n",
    "axes = []\n",
    "ticksize = 8\n",
    "\n",
    "\n",
    "# plot objective return vs violation\n",
    "with sns.axes_style(\"whitegrid\"):\n",
    "    ax = fig.add_subplot(133)\n",
    "    ax.fill_between(x=[-100, 100], y1=-100, y2=0, color=\"cyan\", alpha=0.1)\n",
    "    for name, J_v in algos.items():\n",
    "        J_list, v_list = J_v\n",
    "        J, v = J_list.mean(axis=0), v_list.mean(axis=0)\n",
    "        plt.scatter(J, v, marker=marker[name], s=5, color=colors[name], alpha=0.3)\n",
    "\n",
    "        # if a feasible policy exist, emphasize the best policy\n",
    "        if np.sum(v <= 0) > 0:  \n",
    "            vio_J = np.where(v <= 0, J, np.infty)\n",
    "            best_idx = np.argmin(vio_J)\n",
    "        else:\n",
    "            best_idx = np.argmin(v)\n",
    "        plt.scatter(J[best_idx], v[best_idx], marker=marker[name], color=colors[name], label=name, s=100, edgecolors=\"black\", linewidths=0.8)\n",
    "\n",
    "    plt.xscale(\"symlog\")\n",
    "    plt.yscale(\"symlog\")\n",
    "    plt.ylim(-100, 100)\n",
    "    plt.xlim(-100, 100)\n",
    "    plt.ylabel(\"Constraint Violation\" \"\\n\" r\"(Blue area is feasible)\")\n",
    "    plt.xlabel(\"Relative Objective Return\" \"\\n\" \"(Smaller is better)\")\n",
    "    plt.rcParams[\"mathtext.fontset\"] = 'dejavusans'\n",
    "    plt.legend(loc='lower left', borderaxespad=0, fontsize=11)\n",
    "    ax.tick_params(axis='both', which='major', labelsize=ticksize)\n",
    "    fig.tight_layout()\n",
    "\n",
    "\n",
    "# plot violation\n",
    "with sns.axes_style(\"whitegrid\"):\n",
    "    ax = fig.add_subplot(132)\n",
    "    ax.fill_between(x=[0, 1000], y1=-100, y2=0, color=\"cyan\", alpha=0.1)\n",
    "    for name, J_v in algos.items():\n",
    "        J_list, v_list = J_v\n",
    "        J, v = J_list.mean(axis=0), v_list.mean(axis=0)\n",
    "        df = pd.DataFrame({violation_label: v, iteration_label: np.arange(len(v))})\n",
    "        plt.plot(np.arange(len(v)), v,  label=name, linestyle=linestyle[name], alpha=alphas[name], color=colors[name])\n",
    "    plt.xscale(\"log\")\n",
    "    plt.yscale(\"symlog\")\n",
    "    plt.ylim(-100, 100)\n",
    "    plt.ylabel(\"Constraint Violation\" \"\\n\" r\"(Blue area is feasible)\")\n",
    "    plt.rcParams[\"mathtext.fontset\"] = 'cm'\n",
    "    plt.xlabel(iteration_label)\n",
    "    ax.tick_params(axis='both', which='major', labelsize=ticksize)\n",
    "    fig.tight_layout()\n",
    "\n",
    "\n",
    "# plot objective return\n",
    "with sns.axes_style(\"whitegrid\"):\n",
    "    ax = fig.add_subplot(131)\n",
    "\n",
    "    for name, J_v in algos.items():\n",
    "        J_list, v_list = J_v\n",
    "        J, v = J_list.mean(axis=0), v_list.mean(axis=0)\n",
    "        plt.plot(np.arange(len(J)), J,  label=name, linestyle=linestyle[name], alpha=alphas[name], color=colors[name])\n",
    "    plt.ylim(None, 2)\n",
    "    plt.xscale(\"log\")\n",
    "    plt.yscale(\"symlog\")\n",
    "    plt.ylabel(\"Relative Objective Return\" \"\\n\" \"(Smaller is better)\")\n",
    "    plt.xlabel(iteration_label)\n",
    "    ax.tick_params(axis='both', which='major', labelsize=ticksize)\n",
    "\n",
    "\n",
    "\n",
    "with sns.axes_style(\"whitegrid\"):\n",
    "    plt.rcParams[\"mathtext.fontset\"] = 'dejavusans'\n",
    "    algo_names = list(algos.keys())\n",
    "    handles = [None] * len(algo_names)\n",
    "    handle, label = ax.get_legend_handles_labels()\n",
    "    for h, name in zip(handle, label):\n",
    "        handles[algo_names.index(name)] = h\n",
    "\n",
    "    lgd = fig.legend(handles, algo_names, loc=\"upper center\", bbox_to_anchor=(0.35, 1.1), ncol=len(algo_names))\n",
    "    fig.tight_layout()\n",
    "\n",
    "    plt.savefig(f\"results/{FIGNAME}.pdf\", bbox_extra_artists=(lgd, ), bbox_inches=\"tight\")\n",
    "    plt.savefig(f\"results/{FIGNAME}.png\", bbox_extra_artists=(lgd, ), bbox_inches=\"tight\")"
   ]
  },
  {
   "cell_type": "code",
   "execution_count": null,
   "metadata": {},
   "outputs": [],
   "source": []
  }
 ],
 "metadata": {
  "kernelspec": {
   "display_name": ".venv",
   "language": "python",
   "name": "python3"
  },
  "language_info": {
   "codemirror_mode": {
    "name": "ipython",
    "version": 3
   },
   "file_extension": ".py",
   "mimetype": "text/x-python",
   "name": "python",
   "nbconvert_exporter": "python",
   "pygments_lexer": "ipython3",
   "version": "3.9.12"
  }
 },
 "nbformat": 4,
 "nbformat_minor": 2
}
